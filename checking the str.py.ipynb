{
 "cells": [
  {
   "cell_type": "markdown",
   "id": "0b0da429",
   "metadata": {},
   "source": [
    "#### write a python program to checking staring and ending of a string "
   ]
  },
  {
   "cell_type": "code",
   "execution_count": 1,
   "id": "86e873e7",
   "metadata": {},
   "outputs": [
    {
     "name": "stdout",
     "output_type": "stream",
     "text": [
      "True\n"
     ]
    }
   ],
   "source": [
    "#str.startswith(substring)\n",
    "str = \"this is python\"\n",
    "print(str.startswith(\"this\"))"
   ]
  },
  {
   "cell_type": "code",
   "execution_count": 2,
   "id": "d45b8704",
   "metadata": {},
   "outputs": [
    {
     "name": "stdout",
     "output_type": "stream",
     "text": [
      "True\n"
     ]
    }
   ],
   "source": [
    "str = \"this is python\"\n",
    "print(str.endswith(\"python\"))"
   ]
  },
  {
   "cell_type": "code",
   "execution_count": 3,
   "id": "cfa45770",
   "metadata": {},
   "outputs": [
    {
     "name": "stdout",
     "output_type": "stream",
     "text": [
      "False\n"
     ]
    }
   ],
   "source": [
    "str = \"this is python\"\n",
    "print(str.endswith(\"is\"))"
   ]
  },
  {
   "cell_type": "code",
   "execution_count": null,
   "id": "12334c01",
   "metadata": {},
   "outputs": [],
   "source": []
  }
 ],
 "metadata": {
  "kernelspec": {
   "display_name": "Python 3 (ipykernel)",
   "language": "python",
   "name": "python3"
  },
  "language_info": {
   "codemirror_mode": {
    "name": "ipython",
    "version": 3
   },
   "file_extension": ".py",
   "mimetype": "text/x-python",
   "name": "python",
   "nbconvert_exporter": "python",
   "pygments_lexer": "ipython3",
   "version": "3.10.1"
  }
 },
 "nbformat": 4,
 "nbformat_minor": 5
}
