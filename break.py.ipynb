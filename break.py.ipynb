{
 "cells": [
  {
   "cell_type": "markdown",
   "id": "ec6af237",
   "metadata": {},
   "source": [
    "#### A python program to display numbers from 10 to 6 and break the loop when the number about to display is 5 "
   ]
  },
  {
   "cell_type": "code",
   "execution_count": 3,
   "id": "18126931",
   "metadata": {},
   "outputs": [
    {
     "name": "stdout",
     "output_type": "stream",
     "text": [
      "x=  10\n",
      "x=  9\n",
      "x=  8\n",
      "x=  7\n",
      "x=  6\n",
      "out of loop\n"
     ]
    }
   ],
   "source": [
    "x= 10\n",
    "while x>=1:\n",
    "    print('x= ',x)\n",
    "    x-=1\n",
    "    if x==5:\n",
    "        break\n",
    "print(\"out of loop\")    "
   ]
  },
  {
   "cell_type": "code",
   "execution_count": null,
   "id": "223e71d7",
   "metadata": {},
   "outputs": [],
   "source": []
  }
 ],
 "metadata": {
  "kernelspec": {
   "display_name": "Python 3 (ipykernel)",
   "language": "python",
   "name": "python3"
  },
  "language_info": {
   "codemirror_mode": {
    "name": "ipython",
    "version": 3
   },
   "file_extension": ".py",
   "mimetype": "text/x-python",
   "name": "python",
   "nbconvert_exporter": "python",
   "pygments_lexer": "ipython3",
   "version": "3.10.1"
  }
 },
 "nbformat": 4,
 "nbformat_minor": 5
}
