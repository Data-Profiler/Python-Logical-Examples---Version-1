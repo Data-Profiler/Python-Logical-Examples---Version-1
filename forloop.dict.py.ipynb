{
 "cells": [
  {
   "cell_type": "markdown",
   "id": "4e50b014",
   "metadata": {},
   "source": [
    "#### A python program to show the usage of for loop to retrive elements of dictionaries."
   ]
  },
  {
   "cell_type": "code",
   "execution_count": 1,
   "id": "b32e427d",
   "metadata": {},
   "outputs": [
    {
     "name": "stdout",
     "output_type": "stream",
     "text": [
      "r red\n",
      "g green\n",
      "w white\n"
     ]
    }
   ],
   "source": [
    "colors = {'r':'red','g':'green','w':'white'}\n",
    "for k,v in colors.items():\n",
    "    print(k,v)"
   ]
  },
  {
   "cell_type": "code",
   "execution_count": null,
   "id": "eb3fc959",
   "metadata": {},
   "outputs": [],
   "source": []
  }
 ],
 "metadata": {
  "kernelspec": {
   "display_name": "Python 3 (ipykernel)",
   "language": "python",
   "name": "python3"
  },
  "language_info": {
   "codemirror_mode": {
    "name": "ipython",
    "version": 3
   },
   "file_extension": ".py",
   "mimetype": "text/x-python",
   "name": "python",
   "nbconvert_exporter": "python",
   "pygments_lexer": "ipython3",
   "version": "3.10.1"
  }
 },
 "nbformat": 4,
 "nbformat_minor": 5
}
