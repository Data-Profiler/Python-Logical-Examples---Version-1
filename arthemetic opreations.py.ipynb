{
 "cells": [
  {
   "cell_type": "markdown",
   "id": "22166387",
   "metadata": {},
   "source": [
    "#### A python program that returns the result of addition, substraction, multiplication, and addition¶"
   ]
  },
  {
   "cell_type": "code",
   "execution_count": 1,
   "id": "9f6c6f91",
   "metadata": {},
   "outputs": [
    {
     "name": "stdout",
     "output_type": "stream",
     "text": [
      "the result are:\n",
      "22,-2,120,0.8333333333333334,"
     ]
    }
   ],
   "source": [
    "def sum_sub_mul_div(a,b):\n",
    "    c = a+b\n",
    "    d = a-b\n",
    "    e = a*b\n",
    "    f = a/b\n",
    "    return c,d,e,f\n",
    "t = sum_sub_mul_div(10,12)\n",
    "print('the result are:')\n",
    "for i in t:\n",
    "    print(i,end=',')"
   ]
  },
  {
   "cell_type": "code",
   "execution_count": null,
   "id": "23b6c516",
   "metadata": {},
   "outputs": [],
   "source": []
  }
 ],
 "metadata": {
  "kernelspec": {
   "display_name": "Python 3 (ipykernel)",
   "language": "python",
   "name": "python3"
  },
  "language_info": {
   "codemirror_mode": {
    "name": "ipython",
    "version": 3
   },
   "file_extension": ".py",
   "mimetype": "text/x-python",
   "name": "python",
   "nbconvert_exporter": "python",
   "pygments_lexer": "ipython3",
   "version": "3.10.1"
  }
 },
 "nbformat": 4,
 "nbformat_minor": 5
}
