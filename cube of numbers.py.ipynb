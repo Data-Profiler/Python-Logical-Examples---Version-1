{
 "cells": [
  {
   "cell_type": "markdown",
   "id": "152ea3f1",
   "metadata": {},
   "source": [
    "#### sum of cubes of first n natural numbers"
   ]
  },
  {
   "cell_type": "code",
   "execution_count": 1,
   "id": "b6147bab",
   "metadata": {},
   "outputs": [
    {
     "data": {
      "text/plain": [
       "8"
      ]
     },
     "execution_count": 1,
     "metadata": {},
     "output_type": "execute_result"
    }
   ],
   "source": [
    "def cube_sum(n):\n",
    "    s=0\n",
    "    for i in range(2,n+1):\n",
    "        s=s+(i*i*i)\n",
    "        return s\n",
    "cube_sum(2)    "
   ]
  },
  {
   "cell_type": "code",
   "execution_count": null,
   "id": "dc726b22",
   "metadata": {},
   "outputs": [],
   "source": []
  }
 ],
 "metadata": {
  "kernelspec": {
   "display_name": "Python 3 (ipykernel)",
   "language": "python",
   "name": "python3"
  },
  "language_info": {
   "codemirror_mode": {
    "name": "ipython",
    "version": 3
   },
   "file_extension": ".py",
   "mimetype": "text/x-python",
   "name": "python",
   "nbconvert_exporter": "python",
   "pygments_lexer": "ipython3",
   "version": "3.10.1"
  }
 },
 "nbformat": 4,
 "nbformat_minor": 5
}
