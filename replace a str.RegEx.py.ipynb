{
 "cells": [
  {
   "cell_type": "markdown",
   "id": "a48b5e77",
   "metadata": {},
   "source": [
    "#### A python program to create a regular expression to replace a str with a new str. "
   ]
  },
  {
   "cell_type": "code",
   "execution_count": 1,
   "id": "a6bc1177",
   "metadata": {},
   "outputs": [
    {
     "name": "stdout",
     "output_type": "stream",
     "text": [
      "kumbhamela will be conducted at Allahabad in India.\n"
     ]
    }
   ],
   "source": [
    "import re\n",
    "str = \"kumbhamela will be conducted at Ahmedabad in India.\"\n",
    "res =re.sub('Ahmedabad','Allahabad',str)\n",
    "print(res)"
   ]
  },
  {
   "cell_type": "code",
   "execution_count": null,
   "id": "010b7a1a",
   "metadata": {},
   "outputs": [],
   "source": []
  }
 ],
 "metadata": {
  "kernelspec": {
   "display_name": "Python 3 (ipykernel)",
   "language": "python",
   "name": "python3"
  },
  "language_info": {
   "codemirror_mode": {
    "name": "ipython",
    "version": 3
   },
   "file_extension": ".py",
   "mimetype": "text/x-python",
   "name": "python",
   "nbconvert_exporter": "python",
   "pygments_lexer": "ipython3",
   "version": "3.10.1"
  }
 },
 "nbformat": 4,
 "nbformat_minor": 5
}
