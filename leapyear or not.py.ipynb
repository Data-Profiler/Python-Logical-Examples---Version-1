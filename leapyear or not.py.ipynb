{
 "cells": [
  {
   "cell_type": "markdown",
   "id": "465f1349",
   "metadata": {},
   "source": [
    "#### A python program to enter a year number and display wheather it is leap or not "
   ]
  },
  {
   "cell_type": "code",
   "execution_count": 4,
   "id": "dd606bcf",
   "metadata": {},
   "outputs": [
    {
     "name": "stdout",
     "output_type": "stream",
     "text": [
      "enter year:2020\n",
      "2020 is leap year\n"
     ]
    }
   ],
   "source": [
    "from calendar import*\n",
    "y=int(input(\"enter year:\",))\n",
    "if (isleap(y)):\n",
    "    print(y,\"is leap year\")\n",
    "else:\n",
    "    print(y,\"is not leap\")"
   ]
  },
  {
   "cell_type": "code",
   "execution_count": null,
   "id": "ac988839",
   "metadata": {},
   "outputs": [],
   "source": []
  }
 ],
 "metadata": {
  "kernelspec": {
   "display_name": "Python 3 (ipykernel)",
   "language": "python",
   "name": "python3"
  },
  "language_info": {
   "codemirror_mode": {
    "name": "ipython",
    "version": 3
   },
   "file_extension": ".py",
   "mimetype": "text/x-python",
   "name": "python",
   "nbconvert_exporter": "python",
   "pygments_lexer": "ipython3",
   "version": "3.10.1"
  }
 },
 "nbformat": 4,
 "nbformat_minor": 5
}
