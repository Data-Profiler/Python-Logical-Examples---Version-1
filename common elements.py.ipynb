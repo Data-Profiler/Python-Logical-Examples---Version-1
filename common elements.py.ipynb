{
 "cells": [
  {
   "cell_type": "markdown",
   "id": "5bacf304",
   "metadata": {},
   "source": [
    "#### A python program to find comon elements in two lists¶"
   ]
  },
  {
   "cell_type": "code",
   "execution_count": 1,
   "id": "69fe2440",
   "metadata": {},
   "outputs": [
    {
     "name": "stdout",
     "output_type": "stream",
     "text": [
      "{2, 4, 6}\n"
     ]
    }
   ],
   "source": [
    "l1 = [1,2,4,6,8]\n",
    "l2 = [2,4,6,10,12]\n",
    "s1 = set(l1)\n",
    "s2 = set(l2)\n",
    "s3 = s1.intersection(s2)\n",
    "print(s3)"
   ]
  },
  {
   "cell_type": "code",
   "execution_count": null,
   "id": "8d4738c8",
   "metadata": {},
   "outputs": [],
   "source": []
  }
 ],
 "metadata": {
  "kernelspec": {
   "display_name": "Python 3 (ipykernel)",
   "language": "python",
   "name": "python3"
  },
  "language_info": {
   "codemirror_mode": {
    "name": "ipython",
    "version": 3
   },
   "file_extension": ".py",
   "mimetype": "text/x-python",
   "name": "python",
   "nbconvert_exporter": "python",
   "pygments_lexer": "ipython3",
   "version": "3.10.1"
  }
 },
 "nbformat": 4,
 "nbformat_minor": 5
}
