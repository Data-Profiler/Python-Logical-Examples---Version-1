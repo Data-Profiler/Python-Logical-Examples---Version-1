{
 "cells": [
  {
   "cell_type": "markdown",
   "id": "80bada63",
   "metadata": {},
   "source": [
    "####  A python program to create datetime object by combining date and time objects"
   ]
  },
  {
   "cell_type": "code",
   "execution_count": 1,
   "id": "6c76cfd2",
   "metadata": {},
   "outputs": [
    {
     "name": "stdout",
     "output_type": "stream",
     "text": [
      "2022-02-07 23:23:00\n"
     ]
    }
   ],
   "source": [
    "from datetime import*\n",
    "d=date(2022,2,7)\n",
    "t=time(23,23)\n",
    "dt=datetime.combine(d,t)\n",
    "print(dt)"
   ]
  },
  {
   "cell_type": "code",
   "execution_count": null,
   "id": "4bda6b13",
   "metadata": {},
   "outputs": [],
   "source": []
  }
 ],
 "metadata": {
  "kernelspec": {
   "display_name": "Python 3 (ipykernel)",
   "language": "python",
   "name": "python3"
  },
  "language_info": {
   "codemirror_mode": {
    "name": "ipython",
    "version": 3
   },
   "file_extension": ".py",
   "mimetype": "text/x-python",
   "name": "python",
   "nbconvert_exporter": "python",
   "pygments_lexer": "ipython3",
   "version": "3.10.1"
  }
 },
 "nbformat": 4,
 "nbformat_minor": 5
}
