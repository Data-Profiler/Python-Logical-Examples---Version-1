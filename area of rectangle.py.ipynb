{
 "cells": [
  {
   "cell_type": "markdown",
   "id": "107a1aea",
   "metadata": {},
   "source": [
    "#### python program to find area of rectangle "
   ]
  },
  {
   "cell_type": "code",
   "execution_count": 1,
   "id": "c0b35a82",
   "metadata": {},
   "outputs": [
    {
     "data": {
      "text/plain": [
       "8"
      ]
     },
     "execution_count": 1,
     "metadata": {},
     "output_type": "execute_result"
    }
   ],
   "source": [
    "def rectangle(len,bre):\n",
    "    area=len*bre\n",
    "    return area\n",
    "rectangle(2,4)"
   ]
  },
  {
   "cell_type": "code",
   "execution_count": null,
   "id": "031b52f5",
   "metadata": {},
   "outputs": [],
   "source": []
  }
 ],
 "metadata": {
  "kernelspec": {
   "display_name": "Python 3 (ipykernel)",
   "language": "python",
   "name": "python3"
  },
  "language_info": {
   "codemirror_mode": {
    "name": "ipython",
    "version": 3
   },
   "file_extension": ".py",
   "mimetype": "text/x-python",
   "name": "python",
   "nbconvert_exporter": "python",
   "pygments_lexer": "ipython3",
   "version": "3.10.1"
  }
 },
 "nbformat": 4,
 "nbformat_minor": 5
}
