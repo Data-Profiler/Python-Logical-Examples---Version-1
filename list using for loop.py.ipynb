{
 "cells": [
  {
   "cell_type": "markdown",
   "id": "f1977534",
   "metadata": {},
   "source": [
    "#### A program to display the elements of a list using for loop "
   ]
  },
  {
   "cell_type": "code",
   "execution_count": 1,
   "id": "b21c947e",
   "metadata": {},
   "outputs": [
    {
     "name": "stdout",
     "output_type": "stream",
     "text": [
      "10\n",
      "20.5\n",
      "A\n",
      "usa\n"
     ]
    }
   ],
   "source": [
    "list = [10,20.5,'A',\"usa\"]\n",
    "for elements in list:\n",
    "    print(elements)"
   ]
  },
  {
   "cell_type": "code",
   "execution_count": null,
   "id": "b7b066a8",
   "metadata": {},
   "outputs": [],
   "source": []
  }
 ],
 "metadata": {
  "kernelspec": {
   "display_name": "Python 3 (ipykernel)",
   "language": "python",
   "name": "python3"
  },
  "language_info": {
   "codemirror_mode": {
    "name": "ipython",
    "version": 3
   },
   "file_extension": ".py",
   "mimetype": "text/x-python",
   "name": "python",
   "nbconvert_exporter": "python",
   "pygments_lexer": "ipython3",
   "version": "3.10.1"
  }
 },
 "nbformat": 4,
 "nbformat_minor": 5
}
