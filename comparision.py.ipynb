{
 "cells": [
  {
   "cell_type": "markdown",
   "id": "008c7535",
   "metadata": {},
   "source": [
    "#### A python program to know wheather the both strings are same are not "
   ]
  },
  {
   "cell_type": "code",
   "execution_count": 1,
   "id": "cb78e5f7",
   "metadata": {},
   "outputs": [
    {
     "name": "stdout",
     "output_type": "stream",
     "text": [
      "both are same\n"
     ]
    }
   ],
   "source": [
    "s1=\"welcome\"\n",
    "s2=\"python\"\n",
    "if(s1>s2):\n",
    "    print(\"both are same\")                   # based on letter possiion\n",
    "else:\n",
    "    print(\"both are not same\")\n",
    "    \n",
    "    "
   ]
  },
  {
   "cell_type": "code",
   "execution_count": null,
   "id": "f9c2e9c9",
   "metadata": {},
   "outputs": [],
   "source": []
  }
 ],
 "metadata": {
  "kernelspec": {
   "display_name": "Python 3 (ipykernel)",
   "language": "python",
   "name": "python3"
  },
  "language_info": {
   "codemirror_mode": {
    "name": "ipython",
    "version": 3
   },
   "file_extension": ".py",
   "mimetype": "text/x-python",
   "name": "python",
   "nbconvert_exporter": "python",
   "pygments_lexer": "ipython3",
   "version": "3.10.1"
  }
 },
 "nbformat": 4,
 "nbformat_minor": 5
}
