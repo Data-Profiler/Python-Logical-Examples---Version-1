{
 "cells": [
  {
   "cell_type": "markdown",
   "id": "2adebc18",
   "metadata": {},
   "source": [
    "#### python program to find avereage of subjects"
   ]
  },
  {
   "cell_type": "code",
   "execution_count": 1,
   "id": "36e1ee5a",
   "metadata": {},
   "outputs": [
    {
     "data": {
      "text/plain": [
       "45.0"
      ]
     },
     "execution_count": 1,
     "metadata": {},
     "output_type": "execute_result"
    }
   ],
   "source": [
    "def subjects(m,s,e,h,c):\n",
    "    total=m+s+e+h+c\n",
    "    avg=total/5\n",
    "    return avg\n",
    "subjects(24,45,56,54,46)"
   ]
  },
  {
   "cell_type": "code",
   "execution_count": null,
   "id": "0ce89718",
   "metadata": {},
   "outputs": [],
   "source": []
  }
 ],
 "metadata": {
  "kernelspec": {
   "display_name": "Python 3 (ipykernel)",
   "language": "python",
   "name": "python3"
  },
  "language_info": {
   "codemirror_mode": {
    "name": "ipython",
    "version": 3
   },
   "file_extension": ".py",
   "mimetype": "text/x-python",
   "name": "python",
   "nbconvert_exporter": "python",
   "pygments_lexer": "ipython3",
   "version": "3.10.1"
  }
 },
 "nbformat": 4,
 "nbformat_minor": 5
}
