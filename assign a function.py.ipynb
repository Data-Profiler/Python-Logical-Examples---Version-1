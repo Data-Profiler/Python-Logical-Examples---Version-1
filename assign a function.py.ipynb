{
 "cells": [
  {
   "cell_type": "markdown",
   "id": "0102b4de",
   "metadata": {},
   "source": [
    "#### A python program to see how to assign a function to a variable"
   ]
  },
  {
   "cell_type": "code",
   "execution_count": 1,
   "id": "de5b6ba3",
   "metadata": {},
   "outputs": [
    {
     "name": "stdout",
     "output_type": "stream",
     "text": [
      "hai padmaja\n"
     ]
    }
   ],
   "source": [
    "def display(str):\n",
    "    return 'hai ' + str\n",
    "x = display(\"padmaja\")\n",
    "print(x)"
   ]
  },
  {
   "cell_type": "code",
   "execution_count": null,
   "id": "0faa1b40",
   "metadata": {},
   "outputs": [],
   "source": []
  }
 ],
 "metadata": {
  "kernelspec": {
   "display_name": "Python 3 (ipykernel)",
   "language": "python",
   "name": "python3"
  },
  "language_info": {
   "codemirror_mode": {
    "name": "ipython",
    "version": 3
   },
   "file_extension": ".py",
   "mimetype": "text/x-python",
   "name": "python",
   "nbconvert_exporter": "python",
   "pygments_lexer": "ipython3",
   "version": "3.10.1"
  }
 },
 "nbformat": 4,
 "nbformat_minor": 5
}
