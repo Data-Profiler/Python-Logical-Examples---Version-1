{
 "cells": [
  {
   "cell_type": "markdown",
   "id": "02775579",
   "metadata": {},
   "source": [
    "#### A python program to test wheather a given number is in between 1 and 10 "
   ]
  },
  {
   "cell_type": "code",
   "execution_count": 1,
   "id": "67b6003f",
   "metadata": {},
   "outputs": [
    {
     "name": "stdout",
     "output_type": "stream",
     "text": [
      "enter a number:4\n",
      "you typed 4 which is between 1 and 10\n"
     ]
    }
   ],
   "source": [
    "x=int(input(\"enter a number:\"))\n",
    "if x>=1 and x<=10:\n",
    "    print(\"you typed\",x,\"which is between 1 and 10\")\n",
    "else:\n",
    "    print(\"you typed\",x,\"which is below 1 and above 10\")\n",
    "    "
   ]
  },
  {
   "cell_type": "code",
   "execution_count": null,
   "id": "30bcd010",
   "metadata": {},
   "outputs": [],
   "source": []
  }
 ],
 "metadata": {
  "kernelspec": {
   "display_name": "Python 3 (ipykernel)",
   "language": "python",
   "name": "python3"
  },
  "language_info": {
   "codemirror_mode": {
    "name": "ipython",
    "version": 3
   },
   "file_extension": ".py",
   "mimetype": "text/x-python",
   "name": "python",
   "nbconvert_exporter": "python",
   "pygments_lexer": "ipython3",
   "version": "3.10.1"
  }
 },
 "nbformat": 4,
 "nbformat_minor": 5
}
