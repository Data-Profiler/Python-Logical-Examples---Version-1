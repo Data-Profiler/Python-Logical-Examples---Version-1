{
 "cells": [
  {
   "cell_type": "markdown",
   "id": "edb81230",
   "metadata": {},
   "source": [
    "#### Apython program to display prime number series "
   ]
  },
  {
   "cell_type": "code",
   "execution_count": 5,
   "id": "260bacd1",
   "metadata": {},
   "outputs": [
    {
     "name": "stdout",
     "output_type": "stream",
     "text": [
      "upto what number?: 10\n",
      "3\n",
      "5\n",
      "5\n",
      "5\n",
      "7\n",
      "7\n",
      "7\n",
      "7\n",
      "7\n",
      "9\n"
     ]
    }
   ],
   "source": [
    "max = int(input(\"upto what number?: \"))\n",
    "\n",
    "for num in range(2,max+1):\n",
    "    for i in range(2,num):\n",
    "        if(num % i) == 0:\n",
    "            break\n",
    "        else:\n",
    "            print(num)\n",
    "        "
   ]
  },
  {
   "cell_type": "code",
   "execution_count": null,
   "id": "f82ca1d9",
   "metadata": {},
   "outputs": [],
   "source": []
  }
 ],
 "metadata": {
  "kernelspec": {
   "display_name": "Python 3 (ipykernel)",
   "language": "python",
   "name": "python3"
  },
  "language_info": {
   "codemirror_mode": {
    "name": "ipython",
    "version": 3
   },
   "file_extension": ".py",
   "mimetype": "text/x-python",
   "name": "python",
   "nbconvert_exporter": "python",
   "pygments_lexer": "ipython3",
   "version": "3.10.1"
  }
 },
 "nbformat": 4,
 "nbformat_minor": 5
}
