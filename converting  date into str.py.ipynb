{
 "cells": [
  {
   "cell_type": "markdown",
   "id": "2c2e1f1f",
   "metadata": {},
   "source": [
    "####  A python program to convert a date into a required string format."
   ]
  },
  {
   "cell_type": "code",
   "execution_count": 1,
   "id": "c851dd21",
   "metadata": {},
   "outputs": [
    {
     "name": "stdout",
     "output_type": "stream",
     "text": [
      "2022-02-07\n",
      "07,February,22\n"
     ]
    }
   ],
   "source": [
    "from datetime import*\n",
    "td = date.today()\n",
    "print(td)\n",
    "\n",
    "str = td.strftime(\"%d,%B,%y\")\n",
    "print(str)"
   ]
  }
 ],
 "metadata": {
  "kernelspec": {
   "display_name": "Python 3 (ipykernel)",
   "language": "python",
   "name": "python3"
  },
  "language_info": {
   "codemirror_mode": {
    "name": "ipython",
    "version": 3
   },
   "file_extension": ".py",
   "mimetype": "text/x-python",
   "name": "python",
   "nbconvert_exporter": "python",
   "pygments_lexer": "ipython3",
   "version": "3.10.1"
  }
 },
 "nbformat": 4,
 "nbformat_minor": 5
}
