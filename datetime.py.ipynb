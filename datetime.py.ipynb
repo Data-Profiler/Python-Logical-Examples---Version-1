{
 "cells": [
  {
   "cell_type": "markdown",
   "id": "13ac8a47",
   "metadata": {},
   "source": [
    "#### A python program to know todays date and time"
   ]
  },
  {
   "cell_type": "code",
   "execution_count": 1,
   "id": "cf2d18e2",
   "metadata": {},
   "outputs": [
    {
     "name": "stdout",
     "output_type": "stream",
     "text": [
      "today's date and time= 2022-02-07 23:21:14.139544\n",
      "today's date= 2022-02-07\n"
     ]
    }
   ],
   "source": [
    "from datetime import*\n",
    "tdm = datetime.today()\n",
    "print(\"today's date and time=\",tdm)\n",
    "td=date.today()\n",
    "print(\"today's date=\",td)"
   ]
  },
  {
   "cell_type": "code",
   "execution_count": null,
   "id": "3d8312b4",
   "metadata": {},
   "outputs": [],
   "source": []
  }
 ],
 "metadata": {
  "kernelspec": {
   "display_name": "Python 3 (ipykernel)",
   "language": "python",
   "name": "python3"
  },
  "language_info": {
   "codemirror_mode": {
    "name": "ipython",
    "version": 3
   },
   "file_extension": ".py",
   "mimetype": "text/x-python",
   "name": "python",
   "nbconvert_exporter": "python",
   "pygments_lexer": "ipython3",
   "version": "3.10.1"
  }
 },
 "nbformat": 4,
 "nbformat_minor": 5
}
