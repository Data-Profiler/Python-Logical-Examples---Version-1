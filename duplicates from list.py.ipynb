{
 "cells": [
  {
   "cell_type": "markdown",
   "id": "304b53cc",
   "metadata": {},
   "source": [
    "#### duplicates from a list of integers"
   ]
  },
  {
   "cell_type": "code",
   "execution_count": 1,
   "id": "9c30c657",
   "metadata": {},
   "outputs": [
    {
     "name": "stdout",
     "output_type": "stream",
     "text": [
      "list[{2, 3, 4, 5, 6, 7, 8}]\n"
     ]
    }
   ],
   "source": [
    "def duplicate(l):\n",
    "    l1=set(l)\n",
    "    print(list[l1])\n",
    "duplicate([2,2,4,3,5,6,6,3,7,8])"
   ]
  },
  {
   "cell_type": "code",
   "execution_count": null,
   "id": "c83d9d39",
   "metadata": {},
   "outputs": [],
   "source": []
  }
 ],
 "metadata": {
  "kernelspec": {
   "display_name": "Python 3 (ipykernel)",
   "language": "python",
   "name": "python3"
  },
  "language_info": {
   "codemirror_mode": {
    "name": "ipython",
    "version": 3
   },
   "file_extension": ".py",
   "mimetype": "text/x-python",
   "name": "python",
   "nbconvert_exporter": "python",
   "pygments_lexer": "ipython3",
   "version": "3.10.1"
  }
 },
 "nbformat": 4,
 "nbformat_minor": 5
}
